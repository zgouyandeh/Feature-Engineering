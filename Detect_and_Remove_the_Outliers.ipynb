{
  "nbformat": 4,
  "nbformat_minor": 0,
  "metadata": {
    "colab": {
      "provenance": [],
      "authorship_tag": "ABX9TyP9jNxXVtC5oq//kk/fKybM",
      "include_colab_link": true
    },
    "kernelspec": {
      "name": "python3",
      "display_name": "Python 3"
    },
    "language_info": {
      "name": "python"
    }
  },
  "cells": [
    {
      "cell_type": "markdown",
      "metadata": {
        "id": "view-in-github",
        "colab_type": "text"
      },
      "source": [
        "<a href=\"https://colab.research.google.com/github/zgouyandeh/Feature-Engineering/blob/main/Detect_and_Remove_the_Outliers.ipynb\" target=\"_parent\"><img src=\"https://colab.research.google.com/assets/colab-badge.svg\" alt=\"Open In Colab\"/></a>"
      ]
    },
    {
      "cell_type": "markdown",
      "source": [
        "# **Detect and Remove the Outliers using Python**\n",
        "\n",
        "Outliers, deviating significantly from the norm, can distort measures of central tendency and affect statistical analyses. The piece explores common causes of outliers, from errors to intentional introduction, and highlights their relevance in outlier mining during data analysis.\n",
        "\n",
        "The article delves into the significance of outliers in data analysis, emphasizing their potential impact on statistical results.\n",
        "\n",
        "**What is Outlier?**\n",
        "\n",
        "An Outlier is a data item/object that deviates significantly from the rest of the (so-called normal) objects. Identifying outliers is important in statistics and data analysis because they can have a significant impact on the results of statistical analyses. The analysis for outlier detection is referred to as outlier mining.\n",
        "\n",
        "Outliers can skew the mean (average) and affect measures of central tendency, as well as influence the results of tests of statistical significance."
      ],
      "metadata": {
        "id": "GNO_UPBjz_xJ"
      }
    },
    {
      "cell_type": "markdown",
      "source": [
        "**How Outliers are Caused?**\n",
        "Outliers can be caused by a variety of factors, and they often result from genuine variability in the data or from errors in data collection, measurement, or recording. Some common causes of outliers are:\n",
        "\n",
        "* **Measurement errors**: Errors in data collection or measurement processes can lead to outliers.\n",
        "* **Sampling errors**: In some cases, outliers can arise due to issues with the sampling process.\n",
        "* **Natural variability**: Inherent variability in certain phenomena can also lead to outliers. Some systems may exhibit extreme values due to the nature of the process being studied.\n",
        "* **Data entry errors**: Human errors during data entry can introduce outliers.\n",
        "* **Experimental errors**: In experimental settings, anomalies may occur due to uncontrolled factors, equipment malfunctions, or unexpected events.\n",
        "* **Sampling from multiple populations**: Data is inadvertently combined from multiple populations with different characteristics.\n",
        "Intentional outliers: Outliers are introduced intentionally to test the robustness of statistical methods."
      ],
      "metadata": {
        "id": "Q9sZH9fx0Sxj"
      }
    },
    {
      "cell_type": "markdown",
      "source": [
        "## **Outlier Detection And Removal**\n",
        "Here pandas data frame is used for a more realistic approach as real-world projects need to detect the outliers that arose during the data analysis step, the same approach can be used on lists and series-type objects.\n",
        "\n",
        "**Dataset Used For Outlier Detection**\n",
        "\n",
        "In this example we will use a dataset containing average IQ found on Kaggle. To detect outliers we can do some rare :"
      ],
      "metadata": {
        "id": "4r2W3ulS0kns"
      }
    },
    {
      "cell_type": "code",
      "source": [
        "! pip install -q kaggle\n",
        "from google.colab import files\n",
        "\n",
        "files.upload()"
      ],
      "metadata": {
        "colab": {
          "base_uri": "https://localhost:8080/",
          "height": 91
        },
        "id": "0feHFlTglFtk",
        "outputId": "5d3fcc6a-a498-4a8b-c9a8-ef37e53a2cb8"
      },
      "execution_count": 3,
      "outputs": [
        {
          "output_type": "display_data",
          "data": {
            "text/plain": [
              "<IPython.core.display.HTML object>"
            ],
            "text/html": [
              "\n",
              "     <input type=\"file\" id=\"files-185914a8-24b6-40ff-b334-1923ef9f292e\" name=\"files[]\" multiple disabled\n",
              "        style=\"border:none\" />\n",
              "     <output id=\"result-185914a8-24b6-40ff-b334-1923ef9f292e\">\n",
              "      Upload widget is only available when the cell has been executed in the\n",
              "      current browser session. Please rerun this cell to enable.\n",
              "      </output>\n",
              "      <script>// Copyright 2017 Google LLC\n",
              "//\n",
              "// Licensed under the Apache License, Version 2.0 (the \"License\");\n",
              "// you may not use this file except in compliance with the License.\n",
              "// You may obtain a copy of the License at\n",
              "//\n",
              "//      http://www.apache.org/licenses/LICENSE-2.0\n",
              "//\n",
              "// Unless required by applicable law or agreed to in writing, software\n",
              "// distributed under the License is distributed on an \"AS IS\" BASIS,\n",
              "// WITHOUT WARRANTIES OR CONDITIONS OF ANY KIND, either express or implied.\n",
              "// See the License for the specific language governing permissions and\n",
              "// limitations under the License.\n",
              "\n",
              "/**\n",
              " * @fileoverview Helpers for google.colab Python module.\n",
              " */\n",
              "(function(scope) {\n",
              "function span(text, styleAttributes = {}) {\n",
              "  const element = document.createElement('span');\n",
              "  element.textContent = text;\n",
              "  for (const key of Object.keys(styleAttributes)) {\n",
              "    element.style[key] = styleAttributes[key];\n",
              "  }\n",
              "  return element;\n",
              "}\n",
              "\n",
              "// Max number of bytes which will be uploaded at a time.\n",
              "const MAX_PAYLOAD_SIZE = 100 * 1024;\n",
              "\n",
              "function _uploadFiles(inputId, outputId) {\n",
              "  const steps = uploadFilesStep(inputId, outputId);\n",
              "  const outputElement = document.getElementById(outputId);\n",
              "  // Cache steps on the outputElement to make it available for the next call\n",
              "  // to uploadFilesContinue from Python.\n",
              "  outputElement.steps = steps;\n",
              "\n",
              "  return _uploadFilesContinue(outputId);\n",
              "}\n",
              "\n",
              "// This is roughly an async generator (not supported in the browser yet),\n",
              "// where there are multiple asynchronous steps and the Python side is going\n",
              "// to poll for completion of each step.\n",
              "// This uses a Promise to block the python side on completion of each step,\n",
              "// then passes the result of the previous step as the input to the next step.\n",
              "function _uploadFilesContinue(outputId) {\n",
              "  const outputElement = document.getElementById(outputId);\n",
              "  const steps = outputElement.steps;\n",
              "\n",
              "  const next = steps.next(outputElement.lastPromiseValue);\n",
              "  return Promise.resolve(next.value.promise).then((value) => {\n",
              "    // Cache the last promise value to make it available to the next\n",
              "    // step of the generator.\n",
              "    outputElement.lastPromiseValue = value;\n",
              "    return next.value.response;\n",
              "  });\n",
              "}\n",
              "\n",
              "/**\n",
              " * Generator function which is called between each async step of the upload\n",
              " * process.\n",
              " * @param {string} inputId Element ID of the input file picker element.\n",
              " * @param {string} outputId Element ID of the output display.\n",
              " * @return {!Iterable<!Object>} Iterable of next steps.\n",
              " */\n",
              "function* uploadFilesStep(inputId, outputId) {\n",
              "  const inputElement = document.getElementById(inputId);\n",
              "  inputElement.disabled = false;\n",
              "\n",
              "  const outputElement = document.getElementById(outputId);\n",
              "  outputElement.innerHTML = '';\n",
              "\n",
              "  const pickedPromise = new Promise((resolve) => {\n",
              "    inputElement.addEventListener('change', (e) => {\n",
              "      resolve(e.target.files);\n",
              "    });\n",
              "  });\n",
              "\n",
              "  const cancel = document.createElement('button');\n",
              "  inputElement.parentElement.appendChild(cancel);\n",
              "  cancel.textContent = 'Cancel upload';\n",
              "  const cancelPromise = new Promise((resolve) => {\n",
              "    cancel.onclick = () => {\n",
              "      resolve(null);\n",
              "    };\n",
              "  });\n",
              "\n",
              "  // Wait for the user to pick the files.\n",
              "  const files = yield {\n",
              "    promise: Promise.race([pickedPromise, cancelPromise]),\n",
              "    response: {\n",
              "      action: 'starting',\n",
              "    }\n",
              "  };\n",
              "\n",
              "  cancel.remove();\n",
              "\n",
              "  // Disable the input element since further picks are not allowed.\n",
              "  inputElement.disabled = true;\n",
              "\n",
              "  if (!files) {\n",
              "    return {\n",
              "      response: {\n",
              "        action: 'complete',\n",
              "      }\n",
              "    };\n",
              "  }\n",
              "\n",
              "  for (const file of files) {\n",
              "    const li = document.createElement('li');\n",
              "    li.append(span(file.name, {fontWeight: 'bold'}));\n",
              "    li.append(span(\n",
              "        `(${file.type || 'n/a'}) - ${file.size} bytes, ` +\n",
              "        `last modified: ${\n",
              "            file.lastModifiedDate ? file.lastModifiedDate.toLocaleDateString() :\n",
              "                                    'n/a'} - `));\n",
              "    const percent = span('0% done');\n",
              "    li.appendChild(percent);\n",
              "\n",
              "    outputElement.appendChild(li);\n",
              "\n",
              "    const fileDataPromise = new Promise((resolve) => {\n",
              "      const reader = new FileReader();\n",
              "      reader.onload = (e) => {\n",
              "        resolve(e.target.result);\n",
              "      };\n",
              "      reader.readAsArrayBuffer(file);\n",
              "    });\n",
              "    // Wait for the data to be ready.\n",
              "    let fileData = yield {\n",
              "      promise: fileDataPromise,\n",
              "      response: {\n",
              "        action: 'continue',\n",
              "      }\n",
              "    };\n",
              "\n",
              "    // Use a chunked sending to avoid message size limits. See b/62115660.\n",
              "    let position = 0;\n",
              "    do {\n",
              "      const length = Math.min(fileData.byteLength - position, MAX_PAYLOAD_SIZE);\n",
              "      const chunk = new Uint8Array(fileData, position, length);\n",
              "      position += length;\n",
              "\n",
              "      const base64 = btoa(String.fromCharCode.apply(null, chunk));\n",
              "      yield {\n",
              "        response: {\n",
              "          action: 'append',\n",
              "          file: file.name,\n",
              "          data: base64,\n",
              "        },\n",
              "      };\n",
              "\n",
              "      let percentDone = fileData.byteLength === 0 ?\n",
              "          100 :\n",
              "          Math.round((position / fileData.byteLength) * 100);\n",
              "      percent.textContent = `${percentDone}% done`;\n",
              "\n",
              "    } while (position < fileData.byteLength);\n",
              "  }\n",
              "\n",
              "  // All done.\n",
              "  yield {\n",
              "    response: {\n",
              "      action: 'complete',\n",
              "    }\n",
              "  };\n",
              "}\n",
              "\n",
              "scope.google = scope.google || {};\n",
              "scope.google.colab = scope.google.colab || {};\n",
              "scope.google.colab._files = {\n",
              "  _uploadFiles,\n",
              "  _uploadFilesContinue,\n",
              "};\n",
              "})(self);\n",
              "</script> "
            ]
          },
          "metadata": {}
        },
        {
          "output_type": "stream",
          "name": "stdout",
          "text": [
            "Saving kaggle.json to kaggle.json\n"
          ]
        },
        {
          "output_type": "execute_result",
          "data": {
            "text/plain": [
              "{'kaggle.json': b'{\"username\":\"zgouyandeh\",\"key\":\"88d5f7b7a87ce1d97162dc7dcfb380d5\"}'}"
            ]
          },
          "metadata": {},
          "execution_count": 3
        }
      ]
    },
    {
      "cell_type": "code",
      "source": [
        "! kaggle datasets download rizal1015/iq-and-gender"
      ],
      "metadata": {
        "colab": {
          "base_uri": "https://localhost:8080/"
        },
        "id": "fkdO_rY5lFqg",
        "outputId": "7480d986-9ed1-4e37-8fa5-1ed69a714afa"
      },
      "execution_count": 5,
      "outputs": [
        {
          "output_type": "stream",
          "name": "stdout",
          "text": [
            "Warning: Looks like you're using an outdated API Version, please consider updating (server 1.6.14 / client 1.6.12)\n",
            "Dataset URL: https://www.kaggle.com/datasets/rizal1015/iq-and-gender\n",
            "License(s): unknown\n",
            "Downloading iq-and-gender.zip to /content\n",
            "  0% 0.00/817 [00:00<?, ?B/s]\n",
            "100% 817/817 [00:00<00:00, 1.39MB/s]\n"
          ]
        }
      ]
    },
    {
      "cell_type": "code",
      "source": [
        "import zipfile\n",
        "\n",
        "# Unzip the downloaded file\n",
        "zip_ref = zipfile.ZipFile(\"iq-and-gender.zip\", \"r\")\n",
        "zip_ref.extractall()\n",
        "zip_ref.close()"
      ],
      "metadata": {
        "id": "UUQnG-sk0oZC"
      },
      "execution_count": 7,
      "outputs": []
    },
    {
      "cell_type": "code",
      "source": [
        "import pandas as pd\n",
        "df=pd.read_csv('/content/IQ GPA and Gender.csv')\n",
        "df.head()"
      ],
      "metadata": {
        "colab": {
          "base_uri": "https://localhost:8080/",
          "height": 206
        },
        "id": "7XkE6mfal7fD",
        "outputId": "0285f39d-f7ef-407e-a825-5c263e41c595"
      },
      "execution_count": 10,
      "outputs": [
        {
          "output_type": "execute_result",
          "data": {
            "text/plain": [
              "   obs    gpa   iq  gender  concept\n",
              "0    1  7.940  111       2       67\n",
              "1    2  8.292  107       2       43\n",
              "2    3  4.643  100       2       52\n",
              "3    4  7.470  107       2       66\n",
              "4    5  8.882  114       1       58"
            ],
            "text/html": [
              "\n",
              "  <div id=\"df-49dbddb3-4dfe-4352-baa4-48d3af3dd3ad\" class=\"colab-df-container\">\n",
              "    <div>\n",
              "<style scoped>\n",
              "    .dataframe tbody tr th:only-of-type {\n",
              "        vertical-align: middle;\n",
              "    }\n",
              "\n",
              "    .dataframe tbody tr th {\n",
              "        vertical-align: top;\n",
              "    }\n",
              "\n",
              "    .dataframe thead th {\n",
              "        text-align: right;\n",
              "    }\n",
              "</style>\n",
              "<table border=\"1\" class=\"dataframe\">\n",
              "  <thead>\n",
              "    <tr style=\"text-align: right;\">\n",
              "      <th></th>\n",
              "      <th>obs</th>\n",
              "      <th>gpa</th>\n",
              "      <th>iq</th>\n",
              "      <th>gender</th>\n",
              "      <th>concept</th>\n",
              "    </tr>\n",
              "  </thead>\n",
              "  <tbody>\n",
              "    <tr>\n",
              "      <th>0</th>\n",
              "      <td>1</td>\n",
              "      <td>7.940</td>\n",
              "      <td>111</td>\n",
              "      <td>2</td>\n",
              "      <td>67</td>\n",
              "    </tr>\n",
              "    <tr>\n",
              "      <th>1</th>\n",
              "      <td>2</td>\n",
              "      <td>8.292</td>\n",
              "      <td>107</td>\n",
              "      <td>2</td>\n",
              "      <td>43</td>\n",
              "    </tr>\n",
              "    <tr>\n",
              "      <th>2</th>\n",
              "      <td>3</td>\n",
              "      <td>4.643</td>\n",
              "      <td>100</td>\n",
              "      <td>2</td>\n",
              "      <td>52</td>\n",
              "    </tr>\n",
              "    <tr>\n",
              "      <th>3</th>\n",
              "      <td>4</td>\n",
              "      <td>7.470</td>\n",
              "      <td>107</td>\n",
              "      <td>2</td>\n",
              "      <td>66</td>\n",
              "    </tr>\n",
              "    <tr>\n",
              "      <th>4</th>\n",
              "      <td>5</td>\n",
              "      <td>8.882</td>\n",
              "      <td>114</td>\n",
              "      <td>1</td>\n",
              "      <td>58</td>\n",
              "    </tr>\n",
              "  </tbody>\n",
              "</table>\n",
              "</div>\n",
              "    <div class=\"colab-df-buttons\">\n",
              "\n",
              "  <div class=\"colab-df-container\">\n",
              "    <button class=\"colab-df-convert\" onclick=\"convertToInteractive('df-49dbddb3-4dfe-4352-baa4-48d3af3dd3ad')\"\n",
              "            title=\"Convert this dataframe to an interactive table.\"\n",
              "            style=\"display:none;\">\n",
              "\n",
              "  <svg xmlns=\"http://www.w3.org/2000/svg\" height=\"24px\" viewBox=\"0 -960 960 960\">\n",
              "    <path d=\"M120-120v-720h720v720H120Zm60-500h600v-160H180v160Zm220 220h160v-160H400v160Zm0 220h160v-160H400v160ZM180-400h160v-160H180v160Zm440 0h160v-160H620v160ZM180-180h160v-160H180v160Zm440 0h160v-160H620v160Z\"/>\n",
              "  </svg>\n",
              "    </button>\n",
              "\n",
              "  <style>\n",
              "    .colab-df-container {\n",
              "      display:flex;\n",
              "      gap: 12px;\n",
              "    }\n",
              "\n",
              "    .colab-df-convert {\n",
              "      background-color: #E8F0FE;\n",
              "      border: none;\n",
              "      border-radius: 50%;\n",
              "      cursor: pointer;\n",
              "      display: none;\n",
              "      fill: #1967D2;\n",
              "      height: 32px;\n",
              "      padding: 0 0 0 0;\n",
              "      width: 32px;\n",
              "    }\n",
              "\n",
              "    .colab-df-convert:hover {\n",
              "      background-color: #E2EBFA;\n",
              "      box-shadow: 0px 1px 2px rgba(60, 64, 67, 0.3), 0px 1px 3px 1px rgba(60, 64, 67, 0.15);\n",
              "      fill: #174EA6;\n",
              "    }\n",
              "\n",
              "    .colab-df-buttons div {\n",
              "      margin-bottom: 4px;\n",
              "    }\n",
              "\n",
              "    [theme=dark] .colab-df-convert {\n",
              "      background-color: #3B4455;\n",
              "      fill: #D2E3FC;\n",
              "    }\n",
              "\n",
              "    [theme=dark] .colab-df-convert:hover {\n",
              "      background-color: #434B5C;\n",
              "      box-shadow: 0px 1px 3px 1px rgba(0, 0, 0, 0.15);\n",
              "      filter: drop-shadow(0px 1px 2px rgba(0, 0, 0, 0.3));\n",
              "      fill: #FFFFFF;\n",
              "    }\n",
              "  </style>\n",
              "\n",
              "    <script>\n",
              "      const buttonEl =\n",
              "        document.querySelector('#df-49dbddb3-4dfe-4352-baa4-48d3af3dd3ad button.colab-df-convert');\n",
              "      buttonEl.style.display =\n",
              "        google.colab.kernel.accessAllowed ? 'block' : 'none';\n",
              "\n",
              "      async function convertToInteractive(key) {\n",
              "        const element = document.querySelector('#df-49dbddb3-4dfe-4352-baa4-48d3af3dd3ad');\n",
              "        const dataTable =\n",
              "          await google.colab.kernel.invokeFunction('convertToInteractive',\n",
              "                                                    [key], {});\n",
              "        if (!dataTable) return;\n",
              "\n",
              "        const docLinkHtml = 'Like what you see? Visit the ' +\n",
              "          '<a target=\"_blank\" href=https://colab.research.google.com/notebooks/data_table.ipynb>data table notebook</a>'\n",
              "          + ' to learn more about interactive tables.';\n",
              "        element.innerHTML = '';\n",
              "        dataTable['output_type'] = 'display_data';\n",
              "        await google.colab.output.renderOutput(dataTable, element);\n",
              "        const docLink = document.createElement('div');\n",
              "        docLink.innerHTML = docLinkHtml;\n",
              "        element.appendChild(docLink);\n",
              "      }\n",
              "    </script>\n",
              "  </div>\n",
              "\n",
              "\n",
              "<div id=\"df-757e16b4-0bbc-411b-87df-593dcc736985\">\n",
              "  <button class=\"colab-df-quickchart\" onclick=\"quickchart('df-757e16b4-0bbc-411b-87df-593dcc736985')\"\n",
              "            title=\"Suggest charts\"\n",
              "            style=\"display:none;\">\n",
              "\n",
              "<svg xmlns=\"http://www.w3.org/2000/svg\" height=\"24px\"viewBox=\"0 0 24 24\"\n",
              "     width=\"24px\">\n",
              "    <g>\n",
              "        <path d=\"M19 3H5c-1.1 0-2 .9-2 2v14c0 1.1.9 2 2 2h14c1.1 0 2-.9 2-2V5c0-1.1-.9-2-2-2zM9 17H7v-7h2v7zm4 0h-2V7h2v10zm4 0h-2v-4h2v4z\"/>\n",
              "    </g>\n",
              "</svg>\n",
              "  </button>\n",
              "\n",
              "<style>\n",
              "  .colab-df-quickchart {\n",
              "      --bg-color: #E8F0FE;\n",
              "      --fill-color: #1967D2;\n",
              "      --hover-bg-color: #E2EBFA;\n",
              "      --hover-fill-color: #174EA6;\n",
              "      --disabled-fill-color: #AAA;\n",
              "      --disabled-bg-color: #DDD;\n",
              "  }\n",
              "\n",
              "  [theme=dark] .colab-df-quickchart {\n",
              "      --bg-color: #3B4455;\n",
              "      --fill-color: #D2E3FC;\n",
              "      --hover-bg-color: #434B5C;\n",
              "      --hover-fill-color: #FFFFFF;\n",
              "      --disabled-bg-color: #3B4455;\n",
              "      --disabled-fill-color: #666;\n",
              "  }\n",
              "\n",
              "  .colab-df-quickchart {\n",
              "    background-color: var(--bg-color);\n",
              "    border: none;\n",
              "    border-radius: 50%;\n",
              "    cursor: pointer;\n",
              "    display: none;\n",
              "    fill: var(--fill-color);\n",
              "    height: 32px;\n",
              "    padding: 0;\n",
              "    width: 32px;\n",
              "  }\n",
              "\n",
              "  .colab-df-quickchart:hover {\n",
              "    background-color: var(--hover-bg-color);\n",
              "    box-shadow: 0 1px 2px rgba(60, 64, 67, 0.3), 0 1px 3px 1px rgba(60, 64, 67, 0.15);\n",
              "    fill: var(--button-hover-fill-color);\n",
              "  }\n",
              "\n",
              "  .colab-df-quickchart-complete:disabled,\n",
              "  .colab-df-quickchart-complete:disabled:hover {\n",
              "    background-color: var(--disabled-bg-color);\n",
              "    fill: var(--disabled-fill-color);\n",
              "    box-shadow: none;\n",
              "  }\n",
              "\n",
              "  .colab-df-spinner {\n",
              "    border: 2px solid var(--fill-color);\n",
              "    border-color: transparent;\n",
              "    border-bottom-color: var(--fill-color);\n",
              "    animation:\n",
              "      spin 1s steps(1) infinite;\n",
              "  }\n",
              "\n",
              "  @keyframes spin {\n",
              "    0% {\n",
              "      border-color: transparent;\n",
              "      border-bottom-color: var(--fill-color);\n",
              "      border-left-color: var(--fill-color);\n",
              "    }\n",
              "    20% {\n",
              "      border-color: transparent;\n",
              "      border-left-color: var(--fill-color);\n",
              "      border-top-color: var(--fill-color);\n",
              "    }\n",
              "    30% {\n",
              "      border-color: transparent;\n",
              "      border-left-color: var(--fill-color);\n",
              "      border-top-color: var(--fill-color);\n",
              "      border-right-color: var(--fill-color);\n",
              "    }\n",
              "    40% {\n",
              "      border-color: transparent;\n",
              "      border-right-color: var(--fill-color);\n",
              "      border-top-color: var(--fill-color);\n",
              "    }\n",
              "    60% {\n",
              "      border-color: transparent;\n",
              "      border-right-color: var(--fill-color);\n",
              "    }\n",
              "    80% {\n",
              "      border-color: transparent;\n",
              "      border-right-color: var(--fill-color);\n",
              "      border-bottom-color: var(--fill-color);\n",
              "    }\n",
              "    90% {\n",
              "      border-color: transparent;\n",
              "      border-bottom-color: var(--fill-color);\n",
              "    }\n",
              "  }\n",
              "</style>\n",
              "\n",
              "  <script>\n",
              "    async function quickchart(key) {\n",
              "      const quickchartButtonEl =\n",
              "        document.querySelector('#' + key + ' button');\n",
              "      quickchartButtonEl.disabled = true;  // To prevent multiple clicks.\n",
              "      quickchartButtonEl.classList.add('colab-df-spinner');\n",
              "      try {\n",
              "        const charts = await google.colab.kernel.invokeFunction(\n",
              "            'suggestCharts', [key], {});\n",
              "      } catch (error) {\n",
              "        console.error('Error during call to suggestCharts:', error);\n",
              "      }\n",
              "      quickchartButtonEl.classList.remove('colab-df-spinner');\n",
              "      quickchartButtonEl.classList.add('colab-df-quickchart-complete');\n",
              "    }\n",
              "    (() => {\n",
              "      let quickchartButtonEl =\n",
              "        document.querySelector('#df-757e16b4-0bbc-411b-87df-593dcc736985 button');\n",
              "      quickchartButtonEl.style.display =\n",
              "        google.colab.kernel.accessAllowed ? 'block' : 'none';\n",
              "    })();\n",
              "  </script>\n",
              "</div>\n",
              "    </div>\n",
              "  </div>\n"
            ],
            "application/vnd.google.colaboratory.intrinsic+json": {
              "type": "dataframe",
              "variable_name": "df",
              "summary": "{\n  \"name\": \"df\",\n  \"rows\": 78,\n  \"fields\": [\n    {\n      \"column\": \"obs\",\n      \"properties\": {\n        \"dtype\": \"number\",\n        \"std\": 25,\n        \"min\": 1,\n        \"max\": 89,\n        \"num_unique_values\": 78,\n        \"samples\": [\n          36,\n          1,\n          37\n        ],\n        \"semantic_type\": \"\",\n        \"description\": \"\"\n      }\n    },\n    {\n      \"column\": \"gpa\",\n      \"properties\": {\n        \"dtype\": \"number\",\n        \"std\": 2.099557440641586,\n        \"min\": 0.53,\n        \"max\": 10.76,\n        \"num_unique_values\": 67,\n        \"samples\": [\n          9.999,\n          7.598,\n          8.882\n        ],\n        \"semantic_type\": \"\",\n        \"description\": \"\"\n      }\n    },\n    {\n      \"column\": \"iq\",\n      \"properties\": {\n        \"dtype\": \"number\",\n        \"std\": 13,\n        \"min\": 72,\n        \"max\": 136,\n        \"num_unique_values\": 39,\n        \"samples\": [\n          79,\n          98,\n          115\n        ],\n        \"semantic_type\": \"\",\n        \"description\": \"\"\n      }\n    },\n    {\n      \"column\": \"gender\",\n      \"properties\": {\n        \"dtype\": \"number\",\n        \"std\": 0,\n        \"min\": 1,\n        \"max\": 2,\n        \"num_unique_values\": 2,\n        \"samples\": [\n          1,\n          2\n        ],\n        \"semantic_type\": \"\",\n        \"description\": \"\"\n      }\n    },\n    {\n      \"column\": \"concept\",\n      \"properties\": {\n        \"dtype\": \"number\",\n        \"std\": 12,\n        \"min\": 20,\n        \"max\": 80,\n        \"num_unique_values\": 38,\n        \"samples\": [\n          37,\n          28\n        ],\n        \"semantic_type\": \"\",\n        \"description\": \"\"\n      }\n    }\n  ]\n}"
            }
          },
          "metadata": {},
          "execution_count": 10
        }
      ]
    },
    {
      "cell_type": "markdown",
      "source": [
        "## **How do you Detect Outliers?**\n",
        "\n",
        "1.**Data Visualization:**\n",
        "Graphical methods like Scatter Plots, Box Plots, and histograms can help identify outliers.\n",
        "\n",
        "\n",
        "*  **Visualizing and Removing Outliers Using Box Plot**\n",
        "\n",
        "It captures the summary of the data effectively and efficiently with only a simple box and whiskers. Boxplot summarizes sample data using 25th, 50th, and 75th percentiles. One can just get insights(quartiles, median, and outliers) into the dataset by just looking at its boxplot."
      ],
      "metadata": {
        "id": "J_eo0jGrmIK2"
      }
    },
    {
      "cell_type": "code",
      "source": [
        "import pandas as pd\n",
        "import matplotlib.pyplot as plt\n",
        "import seaborn as sns\n",
        "import numpy as np\n",
        "from scipy.stats import zscore\n",
        "from scipy import stats\n",
        "\n",
        "sns.boxplot(data=df, x=\"iq\")\n",
        "plt.show()"
      ],
      "metadata": {
        "colab": {
          "base_uri": "https://localhost:8080/",
          "height": 449
        },
        "id": "zDwYM99-0H8T",
        "outputId": "d98d675f-00d3-4037-cfce-46c080d40c8d"
      },
      "execution_count": 11,
      "outputs": [
        {
          "output_type": "display_data",
          "data": {
            "text/plain": [
              "<Figure size 640x480 with 1 Axes>"
            ],
            "image/png": "[encoded data removed]"
          },
          "metadata": {}
        }
      ]
    },
    {
      "cell_type": "markdown",
      "source": [
        "The boxplot divides into 3 parts namely Q1, Q2, and Q3 where data smaller than Q1 or larger than Q3 can be categorized as outliers.\n",
        "\n",
        "* **Visualizing and Removing Outliers Using Scatterplot**\n",
        "\n",
        "It is used when you have paired numerical data and when your dependent variable has multiple values for each reading independent variable, or when trying to determine the relationship between the two variables. In the process of utilizing the scatter plot, one can also use it for outlier detection."
      ],
      "metadata": {
        "id": "bqQNIBWT1Bsm"
      }
    },
    {
      "cell_type": "code",
      "source": [
        "# Buat scatter plot\n",
        "plt.figure(figsize=(8, 4))\n",
        "sns.scatterplot(x=df.index, y=df[\"iq\"])\n",
        "\n",
        "# Atur label sumbu\n",
        "plt.xlabel(\"Index\")\n",
        "plt.ylabel(\"IQ\")\n",
        "\n",
        "# Tampilkan plot\n",
        "plt.show()"
      ],
      "metadata": {
        "colab": {
          "base_uri": "https://localhost:8080/",
          "height": 388
        },
        "id": "FRnoq4wS1Cex",
        "outputId": "a6e41bec-d824-4cc0-b6ce-bb72ad1401b7"
      },
      "execution_count": 12,
      "outputs": [
        {
          "output_type": "display_data",
          "data": {
            "text/plain": [
              "<Figure size 800x400 with 1 Axes>"
            ],
            "image/png": "[encoded data removed]"
          },
          "metadata": {}
        }
      ]
    },
    {
      "cell_type": "markdown",
      "source": [
        "Scatter plots are used to observe the distribution of the data and numbers that have positions outside the distribution can be referred to as outliers. However, in the above case, it seems that the scatter plot is not clear enough to identify outliers."
      ],
      "metadata": {
        "id": "J47vFPCw1PqK"
      }
    },
    {
      "cell_type": "code",
      "execution_count": 13,
      "metadata": {
        "colab": {
          "base_uri": "https://localhost:8080/",
          "height": 430
        },
        "id": "CeHeR2FHz8eH",
        "outputId": "26a1a044-163b-42cb-aa95-387555424410"
      },
      "outputs": [
        {
          "output_type": "display_data",
          "data": {
            "text/plain": [
              "<Figure size 640x480 with 1 Axes>"
            ],
            "image/png": "[encoded data removed]"
          },
          "metadata": {}
        }
      ],
      "source": [
        "df[\"iq\"].hist(bins=20)\n",
        "plt.show()"
      ]
    },
    {
      "cell_type": "markdown",
      "source": [
        "Boxplots can also be used to visually detect whether there are outliers in the data. In this case, there is a range of data between 70–80 that could potentially be outliers.\n",
        "\n",
        "Visual observation is enough to help us detect outliers, but after observing through visual observation we certainly have to validate so that the data suspected as outliers is truly valid."
      ],
      "metadata": {
        "id": "UN0sPZR14frC"
      }
    },
    {
      "cell_type": "markdown",
      "source": [
        "**2. Interquartile Range (IQR) Method**\n",
        "\n",
        "The $IQR$ is the range between the first quartile (25th percentile) and the third quartile (75th percentile) of the data. Any data point that falls below $Q1–1.5*IQR$ or above $Q3 + 1.5*IQR $ can be classified as an outlier."
      ],
      "metadata": {
        "id": "b8uLgJnx4gqC"
      }
    },
    {
      "cell_type": "code",
      "source": [
        "columns = ['iq']\n",
        "outlier_percentage = {}\n",
        "\n",
        "for column in columns:\n",
        "    column_data = df[column]\n",
        "\n",
        "    Q1 = np.percentile(column_data, 25)\n",
        "    Q3 = np.percentile(column_data, 75)\n",
        "    IQR = Q3 - Q1\n",
        "\n",
        "    lower = Q1 - 1.5 * IQR\n",
        "    upper = Q3 + 1.5 * IQR\n",
        "\n",
        "    outliers = column_data[(column_data < lower) | (column_data > upper)]\n",
        "    outlier_percentage[column] = len(outliers) / len(column_data) * 100\n",
        "\n",
        "# Display the outlier percentage for each column\n",
        "for column, percentage in outlier_percentage.items():\n",
        "    print(f\"Count of outliers in column '{column}': {len(outliers)}\")\n",
        "    print(f\"Percentage of outliers in column '{column}':{percentage:.2f}%\")\n",
        "    print()\n",
        "    print(f\"Lower : {lower}\")\n",
        "    print(f\"Upper : {upper}\")\n",
        "    print()\n",
        "    print(f\"Data Outlier': {np.array(outliers)}\")"
      ],
      "metadata": {
        "colab": {
          "base_uri": "https://localhost:8080/"
        },
        "id": "hW2zhWFG43i-",
        "outputId": "8c30afbd-97bf-4a34-f235-13c7636837c8"
      },
      "execution_count": 16,
      "outputs": [
        {
          "output_type": "stream",
          "name": "stdout",
          "text": [
            "Count of outliers in column 'iq': 4\n",
            "Percentage of outliers in column 'iq':5.13%\n",
            "\n",
            "Lower : 81.25\n",
            "Upper : 139.25\n",
            "\n",
            "Data Outlier': [72 79 74 77]\n"
          ]
        }
      ]
    },
    {
      "cell_type": "markdown",
      "source": [
        "From the results of checking outliers using the IQR method, 5.13% of the data is categorized as Outliers. The lower limit is 81.25 and the upper limit is 139.25, the outliers found are data that are in the position below the lower limit.\n",
        "\n",
        "**Other ways to detect Outlier**\n",
        "\n",
        "There are several methods to detect outliers other than using the IQR method, but to use other methods we need to have data with a normal distribution. If the distribution is not normal, the IQR method is the best. But if the distribution is normal we can use the z-score method.\n",
        "\n",
        "\n",
        "* **Z-score**\n",
        "Z- Score is also called a standard score. This value/score helps to understand that how far is the data point from the mean. And after setting up a threshold value one can utilize z score values of data points to define the outliers.\n",
        "\n",
        "$$\n",
        "Zscore = \\frac{(data_{point} -mean)}{ std.deviation}\n",
        "$$\n",
        "\n",
        "In this example, we are calculating the Z scores for the ‘age’ column in the DataFrame df_diabetics using the zscore function from the SciPy stats module. The resulting array z contains the absolute Z scores for each data point in the ‘age’ column, indicating how many standard deviations each value is from the mean."
      ],
      "metadata": {
        "id": "oocMjo8I48wZ"
      }
    },
    {
      "cell_type": "code",
      "source": [
        "# New Dataset, Data with Normal Distribution\n",
        "# Mean andstandar deviasi\n",
        "mean_iq = 100\n",
        "std_dev_iq = 15\n",
        "\n",
        "# Create dataset with normal distribution\n",
        "np.random.seed(0)\n",
        "data_iq = np.random.normal(mean_iq, std_dev_iq, 1000)\n",
        "\n",
        "# Create DataFrame fromdata\n",
        "new_df = pd.DataFrame(data_iq, columns=['IQ'])"
      ],
      "metadata": {
        "id": "8lx0ZuUy5NA9"
      },
      "execution_count": 17,
      "outputs": []
    },
    {
      "cell_type": "code",
      "source": [
        "new_df[\"IQ\"].hist(bins=20)\n",
        "plt.show()"
      ],
      "metadata": {
        "colab": {
          "base_uri": "https://localhost:8080/",
          "height": 430
        },
        "id": "7lAqL312oRa6",
        "outputId": "d4d638c3-53c7-4974-fe61-78df7f135fe4"
      },
      "execution_count": 18,
      "outputs": [
        {
          "output_type": "display_data",
          "data": {
            "text/plain": [
              "<Figure size 640x480 with 1 Axes>"
            ],
            "image/png": "[encoded data removed]"
          },
          "metadata": {}
        }
      ]
    },
    {
      "cell_type": "code",
      "source": [
        "# Calculate Z-score\n",
        "z_scores = zscore(new_df['IQ'])\n",
        "\n",
        "# Absolute value from Z-score > 3\n",
        "batas_atas = new_df['IQ'].mean() + 3*new_df['IQ'].std()\n",
        "batas_bawah = new_df['IQ'].mean() - 3*new_df['IQ'].std()\n",
        "\n",
        "# show upper and lower\n",
        "print(\"Upper: \", batas_atas)\n",
        "print(\"Lower: \", batas_bawah)\n",
        "\n",
        "# outlier\n",
        "outliers = np.where(np.abs(z_scores) > 3)\n",
        "\n",
        "# show outlier\n",
        "print(\"Outlier: \", np.array(new_df['IQ'].iloc[outliers]))"
      ],
      "metadata": {
        "colab": {
          "base_uri": "https://localhost:8080/"
        },
        "id": "6K9hno1woVpy",
        "outputId": "c97d94c4-d1dc-489d-fedf-f72c569acead"
      },
      "execution_count": 19,
      "outputs": [
        {
          "output_type": "stream",
          "name": "stdout",
          "text": [
            "Upper:  143.75986644390017\n",
            "Lower:  54.88243233139401\n",
            "Outlier:  [54.30785418]\n"
          ]
        }
      ]
    },
    {
      "cell_type": "markdown",
      "source": [
        "With the Z-Score method we can also determine the upper and lower limits, and in the case above we found 1 outlier that is below the lower limit.\n",
        "\n",
        "**How Should We Handle Outliers in Our Data?**\n",
        "There are several methods to handle outliers, namely:\n",
        "\n",
        "* **Removal**, if you believe the outliers are caused by errors or are irrelevant to your analysis then this is the right method. but you should also consider how much data to remove and how much it affects your data.\n",
        "* **Imputation** is a technique used to fill in values that are considered outliers with other values. Usually, the outlier value is replaced with the median, mean, or mode value."
      ],
      "metadata": {
        "id": "-jk-NC_2oakY"
      }
    },
    {
      "cell_type": "markdown",
      "source": [
        "Now to define an outlier threshold value is chosen which is generally 3.0. As 99.7% of the data points lie between +/- 3 standard deviation (using Gaussian Distribution approach).\n",
        "\n",
        "* **Removal of Outliers with Z-Score**\n",
        "\n",
        "Let’s remove rows where Z value is greater than 2. In this example, we sets a threshold value of 2 and then uses NumPy’s np.where() to identify the positions (indices) in the Z-score array z where the absolute Z score is greater than the specified threshold (2). It prints the positions of the outliers in the ‘age’ column based on the Z-score criterion."
      ],
      "metadata": {
        "id": "mAFBcEm-5Tkx"
      }
    },
    {
      "cell_type": "markdown",
      "source": [
        "### **Remove Outlier**"
      ],
      "metadata": {
        "id": "DnSQYn3JokTA"
      }
    },
    {
      "cell_type": "code",
      "source": [
        "columns = ['iq']\n",
        "\n",
        "for column in columns:\n",
        "    column_data = df[column]\n",
        "\n",
        "    Q1 = np.percentile(column_data, 25)\n",
        "    Q3 = np.percentile(column_data, 75)\n",
        "    IQR = Q3 - Q1\n",
        "\n",
        "    lower = Q1 - 1.5 * IQR\n",
        "    upper = Q3 + 1.5 * IQR\n",
        "\n",
        "    # find outlier\n",
        "    outliers = column_data[(column_data < lower) | (column_data > upper)]\n",
        "\n",
        "    # remove outlier\n",
        "    df_no_outliers = df[(column_data >= lower) & (column_data <= upper)]"
      ],
      "metadata": {
        "id": "9ZaA1Sqo5ZHD"
      },
      "execution_count": 20,
      "outputs": []
    },
    {
      "cell_type": "code",
      "source": [
        "columns = ['iq']\n",
        "outlier_percentage = {}\n",
        "\n",
        "for column in columns:\n",
        "    column_data = df_no_outliers[column]\n",
        "\n",
        "    Q1 = np.percentile(column_data, 25)\n",
        "    Q3 = np.percentile(column_data, 75)\n",
        "    IQR = Q3 - Q1\n",
        "\n",
        "    lower = Q1 - 1.5 * IQR\n",
        "    upper = Q3 + 1.5 * IQR\n",
        "\n",
        "    outliers = column_data[(column_data < lower) | (column_data > upper)]\n",
        "    outlier_percentage[column] = len(outliers) / len(column_data) * 100\n",
        "\n",
        "# Display the outlier percentage for each column\n",
        "for column, percentage in outlier_percentage.items():\n",
        "    print(f\"Count of outliers in column '{column}': {len(outliers)}\")\n",
        "    print(f\"Percentage of outliers in column '{column}':{percentage:.2f}%\")\n",
        "    print()\n",
        "    print(f\"Lower : {lower}\")\n",
        "    print(f\"Upper : {upper}\")\n",
        "    print()\n",
        "    print(f\"Data Outlier': {np.array(outliers)}\")"
      ],
      "metadata": {
        "colab": {
          "base_uri": "https://localhost:8080/"
        },
        "id": "OgJ_oPSWos_k",
        "outputId": "58316e68-442f-493f-b2ce-acbe9e2769e6"
      },
      "execution_count": 21,
      "outputs": [
        {
          "output_type": "stream",
          "name": "stdout",
          "text": [
            "Count of outliers in column 'iq': 0\n",
            "Percentage of outliers in column 'iq':0.00%\n",
            "\n",
            "Lower : 83.0\n",
            "Upper : 139.0\n",
            "\n",
            "Data Outlier': []\n"
          ]
        }
      ]
    },
    {
      "cell_type": "markdown",
      "source": [
        "After removing the outliers, we check again whether there are still outliers or not. The results above show that there are no more outliers in the data."
      ],
      "metadata": {
        "id": "3aWmAA4J5efT"
      }
    },
    {
      "cell_type": "code",
      "source": [
        "sns.boxplot(data=df_no_outliers, x=\"iq\")\n",
        "plt.show()"
      ],
      "metadata": {
        "colab": {
          "base_uri": "https://localhost:8080/",
          "height": 449
        },
        "id": "1Vmur0O65phr",
        "outputId": "cc5c1b83-4c55-4779-ef2c-da46c1e2e1cb"
      },
      "execution_count": 22,
      "outputs": [
        {
          "output_type": "display_data",
          "data": {
            "text/plain": [
              "<Figure size 640x480 with 1 Axes>"
            ],
            "image/png": "[encoded data removed]"
          },
          "metadata": {}
        }
      ]
    },
    {
      "cell_type": "markdown",
      "source": [
        "The boxplot above shows that there are no more outlier data outside the lower and upper limits of the data.\n",
        "\n",
        "### **Imputation Outlier**"
      ],
      "metadata": {
        "id": "ItBQM3i75t7r"
      }
    },
    {
      "cell_type": "code",
      "source": [
        "df_median = df.copy()\n",
        "\n",
        "for column in columns:\n",
        "    column_data = df_median[column]\n",
        "\n",
        "    Q1 = np.percentile(column_data, 25)\n",
        "    Q3 = np.percentile(column_data, 75)\n",
        "    IQR = Q3 - Q1\n",
        "\n",
        "    lower = Q1 - 1.5 * IQR\n",
        "    upper = Q3 + 1.5 * IQR\n",
        "\n",
        "    # find outlier\n",
        "    outliers = column_data[(column_data < lower) | (column_data > upper)]\n",
        "\n",
        "    # calculate median\n",
        "    median = column_data.median()\n",
        "\n",
        "    # replace outlier withmedian\n",
        "    column_data[(column_data < lower) | (column_data > upper)] = median"
      ],
      "metadata": {
        "colab": {
          "base_uri": "https://localhost:8080/"
        },
        "id": "5r-juO_r50tZ",
        "outputId": "0355b2c6-61a4-49bd-b0a0-7a770a55d97b"
      },
      "execution_count": 23,
      "outputs": [
        {
          "output_type": "stream",
          "name": "stderr",
          "text": [
            "<ipython-input-23-8f5c770b8457>:20: SettingWithCopyWarning: \n",
            "A value is trying to be set on a copy of a slice from a DataFrame\n",
            "\n",
            "See the caveats in the documentation: https://pandas.pydata.org/pandas-docs/stable/user_guide/indexing.html#returning-a-view-versus-a-copy\n",
            "  column_data[(column_data < lower) | (column_data > upper)] = median\n"
          ]
        }
      ]
    },
    {
      "cell_type": "code",
      "source": [
        "columns = ['iq']\n",
        "outlier_percentage = {}\n",
        "\n",
        "for column in columns:\n",
        "    column_data = df_median[column]\n",
        "\n",
        "    Q1 = np.percentile(column_data, 25)\n",
        "    Q3 = np.percentile(column_data, 75)\n",
        "    IQR = Q3 - Q1\n",
        "\n",
        "    lower = Q1 - 1.5 * IQR\n",
        "    upper = Q3 + 1.5 * IQR\n",
        "\n",
        "    outliers = column_data[(column_data < lower) | (column_data > upper)]\n",
        "    outlier_percentage[column] = len(outliers) / len(column_data) * 100\n",
        "\n",
        "# Display the outlier percentage for each column\n",
        "for column, percentage in outlier_percentage.items():\n",
        "    print(f\"Count of outliers in column '{column}': {len(outliers)}\")\n",
        "    print(f\"Percentage of outliers in column '{column}':{percentage:.2f}%\")\n",
        "    print()\n",
        "    print(f\"Lower : {lower}\")\n",
        "    print(f\"Upper : {upper}\")\n",
        "    print()\n",
        "    print(f\"Data Outlier': {np.array(outliers)}\")"
      ],
      "metadata": {
        "colab": {
          "base_uri": "https://localhost:8080/"
        },
        "id": "hP1dnnQwpEyM",
        "outputId": "ea8ffc8e-dc03-4b44-ca2c-f410842b5e49"
      },
      "execution_count": 24,
      "outputs": [
        {
          "output_type": "stream",
          "name": "stdout",
          "text": [
            "Count of outliers in column 'iq': 0\n",
            "Percentage of outliers in column 'iq':0.00%\n",
            "\n",
            "Lower : 84.375\n",
            "Upper : 137.375\n",
            "\n",
            "Data Outlier': []\n"
          ]
        }
      ]
    },
    {
      "cell_type": "markdown",
      "source": [
        "In this method, outliers are not removed, but the value is replaced with the median number. The total data will remain the same, but there are no more outliers."
      ],
      "metadata": {
        "id": "54rppbcd5tsQ"
      }
    },
    {
      "cell_type": "code",
      "source": [
        "sns.boxplot(data=df_median, x=\"iq\")\n",
        "plt.show()"
      ],
      "metadata": {
        "id": "_Z9RNITu562W",
        "outputId": "ee7b96ad-62ca-453d-ec68-2eb54d850091",
        "colab": {
          "base_uri": "https://localhost:8080/",
          "height": 449
        }
      },
      "execution_count": 25,
      "outputs": [
        {
          "output_type": "display_data",
          "data": {
            "text/plain": [
              "<Figure size 640x480 with 1 Axes>"
            ],
            "image/png": "[encoded data removed]"
          },
          "metadata": {}
        }
      ]
    },
    {
      "cell_type": "markdown",
      "source": [
        "Visually using the boxplot, there are also no more outliers.\n",
        "\n",
        "### **Conclusion**\n",
        "Checking outliers is a mandatory method before analyzing data because outliers can give results that are quite different from data without outliers. To detect outliers in data, we can use the Data visualization method, IQR for data with abnormal distribution, and the Z-Score method for data with normal distribution. After successfully detecting outliers, we have the option to delete or replace the outlier data. If the data is caused by inputting errors, it is recommended to delete the outliers. Considering the number of outliers is also very important, if the outliers are large enough of the total data then removing them may reduce the significance of the data and may lead to less robust analysis results. The option of replacing the data with mean, median, and mode values could be a better choice.\n",
        "\n"
      ],
      "metadata": {
        "id": "IPmvFJDnpSQ9"
      }
    }
  ]
}